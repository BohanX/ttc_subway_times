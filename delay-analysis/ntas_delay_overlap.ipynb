{
 "cells": [
  {
   "cell_type": "code",
   "execution_count": 1,
   "metadata": {},
   "outputs": [],
   "source": [
    "import pandas as pd\n",
    "import numpy as np\n",
    "import matplotlib.pyplot as plt"
   ]
  },
  {
   "cell_type": "code",
   "execution_count": null,
   "metadata": {},
   "outputs": [],
   "source": [
    "# hardcoded imports\n",
    "ntas = pd.read_csv('data/ntas_data_2019-03-01.csv.gz', compression='gzip', header=0, error_bad_lines=False)\n",
    "delays = pd.read_excel('data/delay.xlsx',sheet_name='Sheet 1')\n",
    "\n",
    "# uncomment below to import from url\n",
    "# didn't test because s*ms*ung wifi likes to randomly block useful sites\n",
    "# url = 'https://spideroak.com/share/OJQXA2DBMVWGI/ttc_subway_times/home/rad/Documents/ttc_subway_times/month_data/ntas_data_2019-03-01.csv.gz'\n",
    "# df = pd.read_csv(url=url, compression='gzip', header=0, error_bad_lines=False)\n",
    "# source https://spideroak.com/browse/share/raphaeld/ttc_subway_times/ttc_subway_times/month_data/\n",
    "ntas.head()"
   ]
  },
  {
   "cell_type": "code",
   "execution_count": null,
   "metadata": {},
   "outputs": [],
   "source": [
    "ntas.dtypes"
   ]
  },
  {
   "cell_type": "markdown",
   "metadata": {},
   "source": [
    "### Do NTAS trainids in scraped data match with the Delay Data vehicle #s\n",
    "\n",
    "Overlap looks trivial, so I would say answer is no"
   ]
  },
  {
   "cell_type": "code",
   "execution_count": null,
   "metadata": {
    "scrolled": true
   },
   "outputs": [],
   "source": [
    "ntas['trainid'].unique()"
   ]
  },
  {
   "cell_type": "code",
   "execution_count": null,
   "metadata": {
    "scrolled": true
   },
   "outputs": [],
   "source": [
    "delays['Vehicle'].unique()"
   ]
  },
  {
   "cell_type": "code",
   "execution_count": null,
   "metadata": {},
   "outputs": [],
   "source": [
    "# proof\n",
    "list(set(ntas['trainid'].unique()) & set(delays['Vehicle'].unique()))"
   ]
  }
 ],
 "metadata": {
  "kernelspec": {
   "display_name": "Python 3",
   "language": "python",
   "name": "python3"
  },
  "language_info": {
   "codemirror_mode": {
    "name": "ipython",
    "version": 3
   },
   "file_extension": ".py",
   "mimetype": "text/x-python",
   "name": "python",
   "nbconvert_exporter": "python",
   "pygments_lexer": "ipython3",
   "version": "3.6.8"
  }
 },
 "nbformat": 4,
 "nbformat_minor": 2
}
