{
 "cells": [
  {
   "cell_type": "markdown",
   "metadata": {},
   "source": [
    "# Exploring the TTC Subway Real-time API\n",
    "The API we're pulling data from is what supports the TTC's [Next Train Arrivals](http://www.ttc.ca/Subway/next_train_arrivals.jsp) page. With a bit of exploration through your browser's developer console, you can see that the page gets refreshed with data from a request to http://www.ttc.ca/Subway/loadNtas.action "
   ]
  },
  {
   "cell_type": "code",
   "execution_count": 5,
   "metadata": {
    "collapsed": false
   },
   "outputs": [],
   "source": [
    "import requests #to handle http requests to the API\n",
    "from datetime import datetime\n",
    "import pytz"
   ]
  },
  {
   "cell_type": "code",
   "execution_count": 7,
   "metadata": {
    "collapsed": true
   },
   "outputs": [],
   "source": [
    "stationid = 3 \n",
    "#We'll find out the full range of possible stations further down.\n",
    "lineid = 1 \n",
    "#[1,2,4]\n",
    "request_time = datetime.now(pytz.timezone('Canada/Eastern')) \n",
    "#The time of the request. It's possible to get historical data?\n",
    "#The request time must be passed in Unix epoch: milliseconds from Jan 1st, 1970\n",
    "request_epoch = int(request_time.timestamp()*1000) "
   ]
  },
  {
   "cell_type": "code",
   "execution_count": 12,
   "metadata": {
    "collapsed": true
   },
   "outputs": [],
   "source": [
    "# The url for the request\n",
    "baseurl = \"http://www.ttc.ca/Subway/loadNtas.action\""
   ]
  },
  {
   "cell_type": "code",
   "execution_count": 17,
   "metadata": {
    "collapsed": false
   },
   "outputs": [],
   "source": [
    "# Our query parameters for this API request\n",
    "payload = {\"subwayLine\":lineid,\n",
    "           \"stationId\":stationid,\n",
    "           \"searchCriteria\":'', #The value in the search box\n",
    "           #it has to be included otherwise the query fails\n",
    "           \"_\":request_epoch} #Great job naming variables...\n",
    "r = requests.get(baseurl, params = payload)"
   ]
  },
  {
   "cell_type": "markdown",
   "metadata": {},
   "source": [
    "So now we've just received our first request from the API and the response is stored in the `requests` object `r`. From previous examination of the API we know that the response to an API request is in JSON format. So the below code will pretty print out the response so we can have a look at the variables."
   ]
  },
  {
   "cell_type": "code",
   "execution_count": 19,
   "metadata": {
    "collapsed": false
   },
   "outputs": [
    {
     "data": {
      "text/plain": [
       "{'allStations': 'success',\n",
       " 'data': None,\n",
       " 'defaultDirection': [['YKD1', 'Southbound<br/> To Union', 'YUS'],\n",
       "  ['YKD2', 'Northbound<br/> To Downsview', 'YUS']],\n",
       " 'limit': 3,\n",
       " 'ntasData': [{'createDate': '2017-01-10T20:45:49',\n",
       "   'id': 11790245361,\n",
       "   'stationDirectionText': 'Southbound<br/> To Union',\n",
       "   'stationId': 'YKD1',\n",
       "   'subwayLine': 'YUS',\n",
       "   'systemMessageType': 'Normal',\n",
       "   'timeInt': 1.8108022857142858,\n",
       "   'timeString': '01.81',\n",
       "   'trainDirection': 'North',\n",
       "   'trainId': 354,\n",
       "   'trainMessage': 'Arriving'},\n",
       "  {'createDate': '2017-01-10T20:45:49',\n",
       "   'id': 11790245362,\n",
       "   'stationDirectionText': 'Southbound<br/> To Union',\n",
       "   'stationId': 'YKD1',\n",
       "   'subwayLine': 'YUS',\n",
       "   'systemMessageType': 'Normal',\n",
       "   'timeInt': 7.033191146666667,\n",
       "   'timeString': '07.03',\n",
       "   'trainDirection': 'North',\n",
       "   'trainId': 159,\n",
       "   'trainMessage': 'Arriving'},\n",
       "  {'createDate': '2017-01-10T20:45:49',\n",
       "   'id': 11790245363,\n",
       "   'stationDirectionText': 'Southbound<br/> To Union',\n",
       "   'stationId': 'YKD1',\n",
       "   'subwayLine': 'YUS',\n",
       "   'systemMessageType': 'Normal',\n",
       "   'timeInt': 9.805075245714287,\n",
       "   'timeString': '09.81',\n",
       "   'trainDirection': 'North',\n",
       "   'trainId': 101,\n",
       "   'trainMessage': 'Arriving'},\n",
       "  {'createDate': '2017-01-10T20:45:49',\n",
       "   'id': 11790245346,\n",
       "   'stationDirectionText': 'Northbound<br/> To Downsview',\n",
       "   'stationId': 'YKD2',\n",
       "   'subwayLine': 'YUS',\n",
       "   'systemMessageType': 'Normal',\n",
       "   'timeInt': 0.9654902857142857,\n",
       "   'timeString': '00.97',\n",
       "   'trainDirection': 'South',\n",
       "   'trainId': 103,\n",
       "   'trainMessage': 'Arriving'},\n",
       "  {'createDate': '2017-01-10T20:45:49',\n",
       "   'id': 11790245347,\n",
       "   'stationDirectionText': 'Northbound<br/> To Downsview',\n",
       "   'stationId': 'YKD2',\n",
       "   'subwayLine': 'YUS',\n",
       "   'systemMessageType': 'Normal',\n",
       "   'timeInt': 3.4726560000000006,\n",
       "   'timeString': '03.47',\n",
       "   'trainDirection': 'South',\n",
       "   'trainId': 104,\n",
       "   'trainMessage': 'Arriving'},\n",
       "  {'createDate': '2017-01-10T20:45:49',\n",
       "   'id': 11790245348,\n",
       "   'stationDirectionText': 'Northbound<br/> To Downsview',\n",
       "   'stationId': 'YKD2',\n",
       "   'subwayLine': 'YUS',\n",
       "   'systemMessageType': 'Normal',\n",
       "   'timeInt': 5.337,\n",
       "   'timeString': '05.34',\n",
       "   'trainDirection': 'South',\n",
       "   'trainId': 106,\n",
       "   'trainMessage': 'Arriving'}],\n",
       " 'searchCriteria': '',\n",
       " 'searchCriteriaMatch': None,\n",
       " 'stationId': '3',\n",
       " 'subwayLine': '1',\n",
       " 'subwayLine2': None,\n",
       " 'subwayStations': ['Bathurst Station',\n",
       "  'Bay Station',\n",
       "  'Bayview Station',\n",
       "  'Bessarion Station',\n",
       "  'Bloor-Yonge Station',\n",
       "  'Broadview Station',\n",
       "  'Castle Frank Station',\n",
       "  'Chester Station',\n",
       "  'Christie Station',\n",
       "  'College Station',\n",
       "  'Coxwell Station',\n",
       "  'Davisville Station',\n",
       "  'Don Mills Station',\n",
       "  'Donlands Station',\n",
       "  'Downsview Station',\n",
       "  'Dufferin Station',\n",
       "  'Dundas Station',\n",
       "  'Dundas West Station',\n",
       "  'Dupont Station',\n",
       "  'Eglinton Station',\n",
       "  'Eglinton West Station',\n",
       "  'Finch Station',\n",
       "  'Glencairn Station',\n",
       "  'Greenwood Station',\n",
       "  'High Park Station',\n",
       "  'Islington Station',\n",
       "  'Jane Station',\n",
       "  'Keele Station',\n",
       "  'Kennedy Station',\n",
       "  'King Station',\n",
       "  'Kipling Station',\n",
       "  'Lansdowne Station',\n",
       "  'Lawrence Station',\n",
       "  'Lawrence West Station',\n",
       "  'Leslie Station',\n",
       "  'Main Street Station',\n",
       "  'Museum Station',\n",
       "  'North York Centre Station',\n",
       "  'Old Mill Station',\n",
       "  'Osgoode Station',\n",
       "  'Ossington Station',\n",
       "  'Pape Station',\n",
       "  'Queen Station',\n",
       "  'Queen’s Park Station',\n",
       "  'Rosedale Station',\n",
       "  'Royal York Station',\n",
       "  'Runnymede Station',\n",
       "  'Sheppard-Yonge Station',\n",
       "  'Sherbourne Station',\n",
       "  'Spadina Station',\n",
       "  'St Andrew Station',\n",
       "  'St Clair Station',\n",
       "  'St Clair West Station',\n",
       "  'St George Station',\n",
       "  'St Patrick Station',\n",
       "  'Summerhill Station',\n",
       "  'Union Station',\n",
       "  'Victoria Park Station',\n",
       "  'Warden Station',\n",
       "  'Wellesley Station',\n",
       "  'Wilson Station',\n",
       "  'Woodbine Station',\n",
       "  'York Mills Station',\n",
       "  'Yorkdale Station']}"
      ]
     },
     "execution_count": 19,
     "metadata": {},
     "output_type": "execute_result"
    }
   ],
   "source": [
    "r.json() "
   ]
  },
  {
   "cell_type": "code",
   "execution_count": null,
   "metadata": {
    "collapsed": true
   },
   "outputs": [],
   "source": []
  },
  {
   "cell_type": "markdown",
   "metadata": {},
   "source": [
    "## Building a scraping script\n",
    "By opening up the inspector tools in the browser, we can see the full list of station ids by hovering over the `Select a subway station` dropdown list.\n",
    "![](img/line1_stations.png)  \n",
    "For Line 1 they are numbered 1-32\n",
    "For Line 2 they are numbered 33-63\n",
    "For Line 4 they are numbered 64-68\n",
    "Thus we can construct a dictionary that will represent every possible API call:"
   ]
  },
  {
   "cell_type": "code",
   "execution_count": 1,
   "metadata": {
    "collapsed": true
   },
   "outputs": [],
   "source": [
    "lines = {1: range(1, 33), #max value must be 1 greater\n",
    "         2: range(33, 64),\n",
    "         3: range(64, 68)}"
   ]
  },
  {
   "cell_type": "code",
   "execution_count": null,
   "metadata": {
    "collapsed": true
   },
   "outputs": [],
   "source": [
    "def get_API_response(line_id, station_id, epoch):\n",
    "    payload = {\"subwayLine\":line_id,\n",
    "           \"stationId\":station_id,\n",
    "           \"searchCriteria\":'',\n",
    "           \"_\":epoch}\n",
    "    r = requests.get(base_url, params = payload) \n",
    "    return r.json()\n",
    "\n",
    "def query_all_stations(epoch):\n",
    "    data = {}\n",
    "    for line_id, stations in lines.items:\n",
    "        for station_id in stations:\n",
    "            data[line_id][station_id] = get_API_response(line_id, station_id, epoch)\n",
    "    return data"
   ]
  }
 ],
 "metadata": {
  "kernelspec": {
   "display_name": "Python 3",
   "language": "python",
   "name": "python3"
  },
  "language_info": {
   "codemirror_mode": {
    "name": "ipython",
    "version": 3
   },
   "file_extension": ".py",
   "mimetype": "text/x-python",
   "name": "python",
   "nbconvert_exporter": "python",
   "pygments_lexer": "ipython3",
   "version": "3.5.2"
  }
 },
 "nbformat": 4,
 "nbformat_minor": 2
}
