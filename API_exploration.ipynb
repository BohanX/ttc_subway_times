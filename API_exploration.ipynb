{
 "cells": [
  {
   "cell_type": "markdown",
   "metadata": {},
   "source": [
    "# Exploring the TTC Subway Real-time API\n",
    "The API we're pulling data from is what supports the TTC's [Next Train Arrivals](http://www.ttc.ca/Subway/next_train_arrivals.jsp) page. With a bit of exploration through your browser's developer console, you can see that the page gets refreshed with data from a request to http://www.ttc.ca/Subway/loadNtas.action "
   ]
  },
  {
   "cell_type": "code",
   "execution_count": 2,
   "metadata": {
    "collapsed": false
   },
   "outputs": [],
   "source": [
    "import requests #to handle http requests to the API\n",
    "from psycopg2 import connect"
   ]
  },
  {
   "cell_type": "code",
   "execution_count": 4,
   "metadata": {
    "collapsed": true
   },
   "outputs": [],
   "source": [
    "stationid = 3 \n",
    "#We'll find out the full range of possible stations further down.\n",
    "lineid = 1 \n",
    "#[1,2,4]"
   ]
  },
  {
   "cell_type": "code",
   "execution_count": 4,
   "metadata": {
    "collapsed": true
   },
   "outputs": [],
   "source": [
    "# The url for the request\n",
    "base_url = \"http://www.ttc.ca/Subway/loadNtas.action\""
   ]
  },
  {
   "cell_type": "code",
   "execution_count": 6,
   "metadata": {
    "collapsed": false
   },
   "outputs": [],
   "source": [
    "# Our query parameters for this API request\n",
    "payload = {#\"subwayLine\":lineid,\n",
    "           \"stationId\":stationid,\n",
    "           \"searchCriteria\":''} #The value in the search box\n",
    "           #it has to be included otherwise the query fails\n",
    "           #\"_\":request_epoch} #Great job naming variables...\n",
    "# subwayLine and _ are redundant variables. \n",
    "# We thought we could query historical data using the \"_\" parameter \n",
    "# But it seems no\n",
    "r = requests.get(base_url, params = payload)"
   ]
  },
  {
   "cell_type": "markdown",
   "metadata": {},
   "source": [
    "So now we've just received our first request from the API and the response is stored in the `requests` object `r`. From previous examination of the API we know that the response to an API request is in JSON format. So the below code will pretty print out the response so we can have a look at the variables."
   ]
  },
  {
   "cell_type": "code",
   "execution_count": 7,
   "metadata": {
    "collapsed": false
   },
   "outputs": [
    {
     "data": {
      "text/plain": [
       "{'allStations': 'success',\n",
       " 'data': None,\n",
       " 'defaultDirection': [['YKD1', 'Southbound<br/> To Union', 'YUS'],\n",
       "  ['YKD2', 'Northbound<br/> To Downsview', 'YUS']],\n",
       " 'limit': 3,\n",
       " 'ntasData': [{'createDate': '2017-01-31T20:28:21',\n",
       "   'id': 12175559601,\n",
       "   'stationDirectionText': 'Southbound<br/> To Union',\n",
       "   'stationId': 'YKD1',\n",
       "   'subwayLine': 'YUS',\n",
       "   'systemMessageType': 'Normal',\n",
       "   'timeInt': 0.29609142857142856,\n",
       "   'timeString': '00.30',\n",
       "   'trainDirection': 'North',\n",
       "   'trainId': 145,\n",
       "   'trainMessage': 'Arriving'},\n",
       "  {'createDate': '2017-01-31T20:28:21',\n",
       "   'id': 12175559602,\n",
       "   'stationDirectionText': 'Southbound<br/> To Union',\n",
       "   'stationId': 'YKD1',\n",
       "   'subwayLine': 'YUS',\n",
       "   'systemMessageType': 'Normal',\n",
       "   'timeInt': 4.534429241904761,\n",
       "   'timeString': '04.53',\n",
       "   'trainDirection': 'North',\n",
       "   'trainId': 122,\n",
       "   'trainMessage': 'Delayed'},\n",
       "  {'createDate': '2017-01-31T20:28:21',\n",
       "   'id': 12175559603,\n",
       "   'stationDirectionText': 'Southbound<br/> To Union',\n",
       "   'stationId': 'YKD1',\n",
       "   'subwayLine': 'YUS',\n",
       "   'systemMessageType': 'Normal',\n",
       "   'timeInt': 4.93227686095238,\n",
       "   'timeString': '04.93',\n",
       "   'trainDirection': 'North',\n",
       "   'trainId': 126,\n",
       "   'trainMessage': 'Arriving'},\n",
       "  {'createDate': '2017-01-31T20:28:21',\n",
       "   'id': 12175559586,\n",
       "   'stationDirectionText': 'Northbound<br/> To Downsview',\n",
       "   'stationId': 'YKD2',\n",
       "   'subwayLine': 'YUS',\n",
       "   'systemMessageType': 'Normal',\n",
       "   'timeInt': 0.0,\n",
       "   'timeString': '00.00',\n",
       "   'trainDirection': 'South',\n",
       "   'trainId': 154,\n",
       "   'trainMessage': 'AtStation'},\n",
       "  {'createDate': '2017-01-31T20:28:21',\n",
       "   'id': 12175559587,\n",
       "   'stationDirectionText': 'Northbound<br/> To Downsview',\n",
       "   'stationId': 'YKD2',\n",
       "   'subwayLine': 'YUS',\n",
       "   'systemMessageType': 'Normal',\n",
       "   'timeInt': 1.3254445714285714,\n",
       "   'timeString': '01.33',\n",
       "   'trainDirection': 'South',\n",
       "   'trainId': 155,\n",
       "   'trainMessage': 'Arriving'},\n",
       "  {'createDate': '2017-01-31T20:28:21',\n",
       "   'id': 12175559588,\n",
       "   'stationDirectionText': 'Northbound<br/> To Downsview',\n",
       "   'stationId': 'YKD2',\n",
       "   'subwayLine': 'YUS',\n",
       "   'systemMessageType': 'Normal',\n",
       "   'timeInt': 2.2986114285714283,\n",
       "   'timeString': '02.30',\n",
       "   'trainDirection': 'South',\n",
       "   'trainId': 157,\n",
       "   'trainMessage': 'Arriving'}],\n",
       " 'searchCriteria': '',\n",
       " 'searchCriteriaMatch': None,\n",
       " 'stationId': '3',\n",
       " 'subwayLine': None,\n",
       " 'subwayLine2': None,\n",
       " 'subwayStations': ['Bathurst Station',\n",
       "  'Bay Station',\n",
       "  'Bayview Station',\n",
       "  'Bessarion Station',\n",
       "  'Bloor-Yonge Station',\n",
       "  'Broadview Station',\n",
       "  'Castle Frank Station',\n",
       "  'Chester Station',\n",
       "  'Christie Station',\n",
       "  'College Station',\n",
       "  'Coxwell Station',\n",
       "  'Davisville Station',\n",
       "  'Don Mills Station',\n",
       "  'Donlands Station',\n",
       "  'Downsview Station',\n",
       "  'Dufferin Station',\n",
       "  'Dundas Station',\n",
       "  'Dundas West Station',\n",
       "  'Dupont Station',\n",
       "  'Eglinton Station',\n",
       "  'Eglinton West Station',\n",
       "  'Finch Station',\n",
       "  'Glencairn Station',\n",
       "  'Greenwood Station',\n",
       "  'High Park Station',\n",
       "  'Islington Station',\n",
       "  'Jane Station',\n",
       "  'Keele Station',\n",
       "  'Kennedy Station',\n",
       "  'King Station',\n",
       "  'Kipling Station',\n",
       "  'Lansdowne Station',\n",
       "  'Lawrence Station',\n",
       "  'Lawrence West Station',\n",
       "  'Leslie Station',\n",
       "  'Main Street Station',\n",
       "  'Museum Station',\n",
       "  'North York Centre Station',\n",
       "  'Old Mill Station',\n",
       "  'Osgoode Station',\n",
       "  'Ossington Station',\n",
       "  'Pape Station',\n",
       "  'Queen Station',\n",
       "  'Queen’s Park Station',\n",
       "  'Rosedale Station',\n",
       "  'Royal York Station',\n",
       "  'Runnymede Station',\n",
       "  'Sheppard-Yonge Station',\n",
       "  'Sherbourne Station',\n",
       "  'Spadina Station',\n",
       "  'St Andrew Station',\n",
       "  'St Clair Station',\n",
       "  'St Clair West Station',\n",
       "  'St George Station',\n",
       "  'St Patrick Station',\n",
       "  'Summerhill Station',\n",
       "  'Union Station',\n",
       "  'Victoria Park Station',\n",
       "  'Warden Station',\n",
       "  'Wellesley Station',\n",
       "  'Wilson Station',\n",
       "  'Woodbine Station',\n",
       "  'York Mills Station',\n",
       "  'Yorkdale Station']}"
      ]
     },
     "execution_count": 7,
     "metadata": {},
     "output_type": "execute_result"
    }
   ],
   "source": [
    "r.json()"
   ]
  },
  {
   "cell_type": "code",
   "execution_count": 11,
   "metadata": {
    "collapsed": true
   },
   "outputs": [],
   "source": [
    "data = r.json()"
   ]
  },
  {
   "cell_type": "code",
   "execution_count": 12,
   "metadata": {
    "collapsed": false
   },
   "outputs": [
    {
     "data": {
      "text/plain": [
       "'2017-01-31T20:28:21'"
      ]
     },
     "execution_count": 12,
     "metadata": {},
     "output_type": "execute_result"
    }
   ],
   "source": [
    "data['ntasData'][0]['createDate']"
   ]
  },
  {
   "cell_type": "code",
   "execution_count": 5,
   "metadata": {
    "collapsed": false
   },
   "outputs": [
    {
     "data": {
      "text/plain": [
       "{'allStations': 'success',\n",
       " 'data': None,\n",
       " 'defaultDirection': [['SGU1', 'Southbound<br/> To Union', 'YUS'],\n",
       "  ['SGU2', 'Northbound<br/> To Downsview', 'YUS'],\n",
       "  ['SGL1', 'Eastbound</br> To Kennedy', 'BD'],\n",
       "  ['SGL2', 'Westbound<br/> To Kipling', 'BD']],\n",
       " 'limit': 3,\n",
       " 'ntasData': [{'createDate': '2017-02-05T16:25:30',\n",
       "   'id': 12265037214,\n",
       "   'stationDirectionText': 'Northbound<br/> To Downsview',\n",
       "   'stationId': 'SGU2',\n",
       "   'subwayLine': 'YUS',\n",
       "   'systemMessageType': 'Normal',\n",
       "   'timeInt': 0.9045222222222222,\n",
       "   'timeString': '00.90',\n",
       "   'trainDirection': 'South',\n",
       "   'trainId': 124,\n",
       "   'trainMessage': 'Arriving'},\n",
       "  {'createDate': '2017-02-05T16:25:30',\n",
       "   'id': 12265037215,\n",
       "   'stationDirectionText': 'Northbound<br/> To Downsview',\n",
       "   'stationId': 'SGU2',\n",
       "   'subwayLine': 'YUS',\n",
       "   'systemMessageType': 'Normal',\n",
       "   'timeInt': 4.51758,\n",
       "   'timeString': '04.52',\n",
       "   'trainDirection': 'South',\n",
       "   'trainId': 125,\n",
       "   'trainMessage': 'Arriving'},\n",
       "  {'createDate': '2017-02-05T16:25:30',\n",
       "   'id': 12265037216,\n",
       "   'stationDirectionText': 'Northbound<br/> To Downsview',\n",
       "   'stationId': 'SGU2',\n",
       "   'subwayLine': 'YUS',\n",
       "   'systemMessageType': 'Normal',\n",
       "   'timeInt': 6.747313333333333,\n",
       "   'timeString': '06.75',\n",
       "   'trainDirection': 'South',\n",
       "   'trainId': 126,\n",
       "   'trainMessage': 'Arriving'},\n",
       "  {'createDate': '2017-02-05T16:25:30',\n",
       "   'id': 12265037271,\n",
       "   'stationDirectionText': 'Southbound<br/> To Union',\n",
       "   'stationId': 'SGU1',\n",
       "   'subwayLine': 'YUS',\n",
       "   'systemMessageType': 'Normal',\n",
       "   'timeInt': 2.130237777777778,\n",
       "   'timeString': '02.13',\n",
       "   'trainDirection': 'North',\n",
       "   'trainId': 114,\n",
       "   'trainMessage': 'Arriving'},\n",
       "  {'createDate': '2017-02-05T16:25:30',\n",
       "   'id': 12265037272,\n",
       "   'stationDirectionText': 'Southbound<br/> To Union',\n",
       "   'stationId': 'SGU1',\n",
       "   'subwayLine': 'YUS',\n",
       "   'systemMessageType': 'Normal',\n",
       "   'timeInt': 7.999484444444445,\n",
       "   'timeString': '08.00',\n",
       "   'trainDirection': 'North',\n",
       "   'trainId': 115,\n",
       "   'trainMessage': 'Arriving'},\n",
       "  {'createDate': '2017-02-05T16:25:30',\n",
       "   'id': 12265037273,\n",
       "   'stationDirectionText': 'Southbound<br/> To Union',\n",
       "   'stationId': 'SGU1',\n",
       "   'subwayLine': 'YUS',\n",
       "   'systemMessageType': 'Normal',\n",
       "   'timeInt': 12.377904444444443,\n",
       "   'timeString': '12.38',\n",
       "   'trainDirection': 'North',\n",
       "   'trainId': 116,\n",
       "   'trainMessage': 'Arriving'}],\n",
       " 'searchCriteria': '',\n",
       " 'searchCriteriaMatch': None,\n",
       " 'stationId': '10',\n",
       " 'subwayLine': None,\n",
       " 'subwayLine2': '2',\n",
       " 'subwayStations': ['Bathurst Station',\n",
       "  'Bay Station',\n",
       "  'Bayview Station',\n",
       "  'Bessarion Station',\n",
       "  'Bloor-Yonge Station',\n",
       "  'Broadview Station',\n",
       "  'Castle Frank Station',\n",
       "  'Chester Station',\n",
       "  'Christie Station',\n",
       "  'College Station',\n",
       "  'Coxwell Station',\n",
       "  'Davisville Station',\n",
       "  'Don Mills Station',\n",
       "  'Donlands Station',\n",
       "  'Downsview Station',\n",
       "  'Dufferin Station',\n",
       "  'Dundas Station',\n",
       "  'Dundas West Station',\n",
       "  'Dupont Station',\n",
       "  'Eglinton Station',\n",
       "  'Eglinton West Station',\n",
       "  'Finch Station',\n",
       "  'Glencairn Station',\n",
       "  'Greenwood Station',\n",
       "  'High Park Station',\n",
       "  'Islington Station',\n",
       "  'Jane Station',\n",
       "  'Keele Station',\n",
       "  'Kennedy Station',\n",
       "  'King Station',\n",
       "  'Kipling Station',\n",
       "  'Lansdowne Station',\n",
       "  'Lawrence Station',\n",
       "  'Lawrence West Station',\n",
       "  'Leslie Station',\n",
       "  'Main Street Station',\n",
       "  'Museum Station',\n",
       "  'North York Centre Station',\n",
       "  'Old Mill Station',\n",
       "  'Osgoode Station',\n",
       "  'Ossington Station',\n",
       "  'Pape Station',\n",
       "  'Queen Station',\n",
       "  'Queen’s Park Station',\n",
       "  'Rosedale Station',\n",
       "  'Royal York Station',\n",
       "  'Runnymede Station',\n",
       "  'Sheppard-Yonge Station',\n",
       "  'Sherbourne Station',\n",
       "  'Spadina Station',\n",
       "  'St Andrew Station',\n",
       "  'St Clair Station',\n",
       "  'St Clair West Station',\n",
       "  'St George Station',\n",
       "  'St Patrick Station',\n",
       "  'Summerhill Station',\n",
       "  'Union Station',\n",
       "  'Victoria Park Station',\n",
       "  'Warden Station',\n",
       "  'Wellesley Station',\n",
       "  'Wilson Station',\n",
       "  'Woodbine Station',\n",
       "  'York Mills Station',\n",
       "  'Yorkdale Station']}"
      ]
     },
     "execution_count": 5,
     "metadata": {},
     "output_type": "execute_result"
    }
   ],
   "source": [
    "#Testing whether have to be explicit about line numbers for stations with multiple lines\n",
    "payload = {#\"subwayLine\":lineid,\n",
    "           \"stationId\":10, #St. George, Line 1\n",
    "           \"searchCriteria\":''} \n",
    "r = requests.get(base_url, params = payload)\n",
    "r.json()"
   ]
  },
  {
   "cell_type": "code",
   "execution_count": 8,
   "metadata": {
    "collapsed": false
   },
   "outputs": [
    {
     "data": {
      "text/plain": [
       "{'allStations': 'success',\n",
       " 'data': None,\n",
       " 'defaultDirection': [['SGL1', 'Eastbound</br> To Kennedy', 'BD'],\n",
       "  ['SGL2', 'Westbound<br/> To Kipling', 'BD'],\n",
       "  ['SGU1', 'Southbound<br/> To Union', 'YUS'],\n",
       "  ['SGU2', 'Northbound<br/> To Downsview', 'YUS']],\n",
       " 'limit': 3,\n",
       " 'ntasData': [{'createDate': '2017-02-05T16:30:13',\n",
       "   'id': 12265113796,\n",
       "   'stationDirectionText': 'Eastbound</br> To Kennedy',\n",
       "   'stationId': 'SGL1',\n",
       "   'subwayLine': 'BD',\n",
       "   'systemMessageType': 'Normal',\n",
       "   'timeInt': 1.5897975232198145,\n",
       "   'timeString': '01.59',\n",
       "   'trainDirection': 'East',\n",
       "   'trainId': 203,\n",
       "   'trainMessage': 'Arriving'},\n",
       "  {'createDate': '2017-02-05T16:30:13',\n",
       "   'id': 12265113797,\n",
       "   'stationDirectionText': 'Eastbound</br> To Kennedy',\n",
       "   'stationId': 'SGL1',\n",
       "   'subwayLine': 'BD',\n",
       "   'systemMessageType': 'Normal',\n",
       "   'timeInt': 5.93598838885449,\n",
       "   'timeString': '05.94',\n",
       "   'trainDirection': 'East',\n",
       "   'trainId': 204,\n",
       "   'trainMessage': 'Arriving'},\n",
       "  {'createDate': '2017-02-05T16:30:13',\n",
       "   'id': 12265113798,\n",
       "   'stationDirectionText': 'Eastbound</br> To Kennedy',\n",
       "   'stationId': 'SGL1',\n",
       "   'subwayLine': 'BD',\n",
       "   'systemMessageType': 'Normal',\n",
       "   'timeInt': 11.029528450773993,\n",
       "   'timeString': '11.03',\n",
       "   'trainDirection': 'East',\n",
       "   'trainId': 205,\n",
       "   'trainMessage': 'Arriving'},\n",
       "  {'createDate': '2017-02-05T16:30:13',\n",
       "   'id': 12265113703,\n",
       "   'stationDirectionText': 'Westbound<br/> To Kipling',\n",
       "   'stationId': 'SGL2',\n",
       "   'subwayLine': 'BD',\n",
       "   'systemMessageType': 'Normal',\n",
       "   'timeInt': 3.0209197523219817,\n",
       "   'timeString': '03.02',\n",
       "   'trainDirection': 'West',\n",
       "   'trainId': 214,\n",
       "   'trainMessage': 'Arriving'},\n",
       "  {'createDate': '2017-02-05T16:30:13',\n",
       "   'id': 12265113704,\n",
       "   'stationDirectionText': 'Westbound<br/> To Kipling',\n",
       "   'stationId': 'SGL2',\n",
       "   'subwayLine': 'BD',\n",
       "   'systemMessageType': 'Normal',\n",
       "   'timeInt': 8.047886964705883,\n",
       "   'timeString': '08.05',\n",
       "   'trainDirection': 'West',\n",
       "   'trainId': 215,\n",
       "   'trainMessage': 'Arriving'},\n",
       "  {'createDate': '2017-02-05T16:30:13',\n",
       "   'id': 12265113705,\n",
       "   'stationDirectionText': 'Westbound<br/> To Kipling',\n",
       "   'stationId': 'SGL2',\n",
       "   'subwayLine': 'BD',\n",
       "   'systemMessageType': 'Normal',\n",
       "   'timeInt': 12.080311237151706,\n",
       "   'timeString': '12.08',\n",
       "   'trainDirection': 'West',\n",
       "   'trainId': 216,\n",
       "   'trainMessage': 'Arriving'}],\n",
       " 'searchCriteria': '',\n",
       " 'searchCriteriaMatch': None,\n",
       " 'stationId': '48',\n",
       " 'subwayLine': '1',\n",
       " 'subwayLine2': '1',\n",
       " 'subwayStations': ['Bathurst Station',\n",
       "  'Bay Station',\n",
       "  'Bayview Station',\n",
       "  'Bessarion Station',\n",
       "  'Bloor-Yonge Station',\n",
       "  'Broadview Station',\n",
       "  'Castle Frank Station',\n",
       "  'Chester Station',\n",
       "  'Christie Station',\n",
       "  'College Station',\n",
       "  'Coxwell Station',\n",
       "  'Davisville Station',\n",
       "  'Don Mills Station',\n",
       "  'Donlands Station',\n",
       "  'Downsview Station',\n",
       "  'Dufferin Station',\n",
       "  'Dundas Station',\n",
       "  'Dundas West Station',\n",
       "  'Dupont Station',\n",
       "  'Eglinton Station',\n",
       "  'Eglinton West Station',\n",
       "  'Finch Station',\n",
       "  'Glencairn Station',\n",
       "  'Greenwood Station',\n",
       "  'High Park Station',\n",
       "  'Islington Station',\n",
       "  'Jane Station',\n",
       "  'Keele Station',\n",
       "  'Kennedy Station',\n",
       "  'King Station',\n",
       "  'Kipling Station',\n",
       "  'Lansdowne Station',\n",
       "  'Lawrence Station',\n",
       "  'Lawrence West Station',\n",
       "  'Leslie Station',\n",
       "  'Main Street Station',\n",
       "  'Museum Station',\n",
       "  'North York Centre Station',\n",
       "  'Old Mill Station',\n",
       "  'Osgoode Station',\n",
       "  'Ossington Station',\n",
       "  'Pape Station',\n",
       "  'Queen Station',\n",
       "  'Queen’s Park Station',\n",
       "  'Rosedale Station',\n",
       "  'Royal York Station',\n",
       "  'Runnymede Station',\n",
       "  'Sheppard-Yonge Station',\n",
       "  'Sherbourne Station',\n",
       "  'Spadina Station',\n",
       "  'St Andrew Station',\n",
       "  'St Clair Station',\n",
       "  'St Clair West Station',\n",
       "  'St George Station',\n",
       "  'St Patrick Station',\n",
       "  'Summerhill Station',\n",
       "  'Union Station',\n",
       "  'Victoria Park Station',\n",
       "  'Warden Station',\n",
       "  'Wellesley Station',\n",
       "  'Wilson Station',\n",
       "  'Woodbine Station',\n",
       "  'York Mills Station',\n",
       "  'Yorkdale Station']}"
      ]
     },
     "execution_count": 8,
     "metadata": {},
     "output_type": "execute_result"
    }
   ],
   "source": [
    "#Testing whether have to be explicit about line numbers for stations with multiple lines\n",
    "payload = {#\"subwayLine\":lineid,\n",
    "           \"stationId\":48, #St. George, Line 2\n",
    "           \"searchCriteria\":''} \n",
    "r = requests.get(base_url, params = payload)\n",
    "r.json()"
   ]
  },
  {
   "cell_type": "code",
   "execution_count": 10,
   "metadata": {
    "collapsed": false
   },
   "outputs": [
    {
     "data": {
      "text/plain": [
       "'2017-02-05 16:30:13'"
      ]
     },
     "execution_count": 10,
     "metadata": {},
     "output_type": "execute_result"
    }
   ],
   "source": [
    "data = r.json()\n",
    "data['ntasData'][0]['createDate'].replace('T',' ')"
   ]
  },
  {
   "cell_type": "markdown",
   "metadata": {},
   "source": [
    "## Building a scraping script\n",
    "By opening up the inspector tools in the browser, we can see the full list of station ids by hovering over the `Select a subway station` dropdown list. Stations increase in number from West to East.\n",
    "![](img/line1_stations.png)  \n",
    "For Line 1 they are numbered 1-32\n",
    "For Line 2 they are numbered 33-63\n",
    "For Line 4 they are numbered 64-68\n",
    "Thus we can construct a dictionary that will represent every possible API call:"
   ]
  },
  {
   "cell_type": "code",
   "execution_count": 24,
   "metadata": {
    "collapsed": true
   },
   "outputs": [],
   "source": [
    "lines = {1: range(1, 33), #max value must be 1 greater\n",
    "         2: range(33, 64),\n",
    "         4: range(64, 68)}"
   ]
  },
  {
   "cell_type": "code",
   "execution_count": 27,
   "metadata": {
    "collapsed": true
   },
   "outputs": [],
   "source": [
    "def get_API_response(station_id):\n",
    "    payload = {\"stationId\":station_id,\n",
    "               \"searchCriteria\":''}\n",
    "    r = requests.get(base_url, params = payload) \n",
    "    return r.json()\n",
    "\n",
    "def insert_request_info(con, data, line_id, station_id):\n",
    "    request_row = {}\n",
    "    request_row['data_'] = data['data']\n",
    "    request_row['stationid'] = station_id\n",
    "    request_row['lineid'] = line_id\n",
    "    request_row['all_stations'] = data['allStations']\n",
    "    request_row['create_date'] = data['ntasData'][0]['createDate'].replace( 'T', ' ')\n",
    "    cursor = con.cursor()\n",
    "    cursor.execute(\"INSERT INTO public.requests(data_, stationid, lineid, all_stations, create_date)\"\n",
    "                   \"VALUES(%(data_)s, %(stationid)s, %(lineid)s, %(all_stations)s, %(create_date)s)\"\n",
    "                   \"RETURNING requestid\", request_row)\n",
    "    request_id = cursor.fetchone()[0]\n",
    "    con.commit()\n",
    "    return request_id\n",
    "\n",
    "def insert_ntas_data(con, ntas_data, request_id):\n",
    "    cursor = con.cursor()\n",
    "    sql = \"\"\"INSERT INTO public.ntas_data(\n",
    "            requestid, id, station_char, subwayline, system_message_type, \n",
    "            timint, traindirection, trainid, train_message)\n",
    "            VALUES (%(requestid)s, %(id)s, %(station_char)s, %(subwayline)s, %(system_message_type)s, \n",
    "            %(timint)s, %(traindirection)s, %(trainid)s, %(train_message)s);\n",
    "          \"\"\"\n",
    "    for record in ntas_data:\n",
    "        record_row ={}\n",
    "        record_row['requestid'] = request_id\n",
    "        record_row['id'] = record['id']\n",
    "        record_row['station_char'] = record['stationId']\n",
    "        record_row['subwayline'] = record['subwayLine']\n",
    "        record_row['system_message_type'] = record['systemMessageType']\n",
    "        record_row['timint'] = record['timeInt']\n",
    "        record_row['traindirection'] = record['trainDirection']\n",
    "        record_row['trainid'] = record['trainId']\n",
    "        record_row['train_message'] = record['trainMessage']\n",
    "        cursor.execute(sql, record_row)\n",
    "    con.commit()\n",
    "\n",
    "def query_all_stations(con):\n",
    "    data = {}\n",
    "    for line_id, stations in lines.items():\n",
    "        for station_id in stations:\n",
    "            data = get_API_response(station_id)\n",
    "            request_id = insert_request_info(con, data, line_id, station_id)\n",
    "            insert_ntas_data(con, data['ntasData'], request_id)\n",
    "    return data"
   ]
  },
  {
   "cell_type": "markdown",
   "metadata": {},
   "source": [
    "## Database schema \n",
    "Looking at the response above. I've written up a basic schema of two tables to store the responses to the API. it's in [`create_tables.sql`](create_tables.sql)."
   ]
  },
  {
   "cell_type": "code",
   "execution_count": 10,
   "metadata": {
    "collapsed": false
   },
   "outputs": [],
   "source": [
    "dbsettings = {'database':'ttc',\n",
    "              'user':'rad'}\n",
    "#              'host':'localhost'}\n",
    "con = connect(database = dbsettings['database'],\n",
    "              user = dbsettings['user'])\n",
    "              #host = dbsettings['host'])\n"
   ]
  },
  {
   "cell_type": "code",
   "execution_count": 19,
   "metadata": {
    "collapsed": false
   },
   "outputs": [],
   "source": [
    "#data = get_API_response(3)\n",
    "request_id = insert_request_info(con, data, 1, 3)"
   ]
  },
  {
   "cell_type": "code",
   "execution_count": 23,
   "metadata": {
    "collapsed": false
   },
   "outputs": [],
   "source": [
    "insert_ntas_data(con, data['ntasData'], request_id)"
   ]
  },
  {
   "cell_type": "code",
   "execution_count": 28,
   "metadata": {
    "collapsed": false
   },
   "outputs": [
    {
     "ename": "IndexError",
     "evalue": "list index out of range",
     "output_type": "error",
     "traceback": [
      "\u001b[0;31m---------------------------------------------------------------------------\u001b[0m",
      "\u001b[0;31mIndexError\u001b[0m                                Traceback (most recent call last)",
      "\u001b[0;32m<ipython-input-28-e8ea8cd70e2d>\u001b[0m in \u001b[0;36m<module>\u001b[0;34m()\u001b[0m\n\u001b[0;32m----> 1\u001b[0;31m \u001b[0mquery_all_stations\u001b[0m\u001b[0;34m(\u001b[0m\u001b[0mcon\u001b[0m\u001b[0;34m)\u001b[0m\u001b[0;34m\u001b[0m\u001b[0m\n\u001b[0m",
      "\u001b[0;32m<ipython-input-27-c24f1d551f57>\u001b[0m in \u001b[0;36mquery_all_stations\u001b[0;34m(con)\u001b[0m\n\u001b[1;32m     47\u001b[0m         \u001b[0;32mfor\u001b[0m \u001b[0mstation_id\u001b[0m \u001b[0;32min\u001b[0m \u001b[0mstations\u001b[0m\u001b[0;34m:\u001b[0m\u001b[0;34m\u001b[0m\u001b[0m\n\u001b[1;32m     48\u001b[0m             \u001b[0mdata\u001b[0m \u001b[0;34m=\u001b[0m \u001b[0mget_API_response\u001b[0m\u001b[0;34m(\u001b[0m\u001b[0mstation_id\u001b[0m\u001b[0;34m)\u001b[0m\u001b[0;34m\u001b[0m\u001b[0m\n\u001b[0;32m---> 49\u001b[0;31m             \u001b[0mrequest_id\u001b[0m \u001b[0;34m=\u001b[0m \u001b[0minsert_request_info\u001b[0m\u001b[0;34m(\u001b[0m\u001b[0mcon\u001b[0m\u001b[0;34m,\u001b[0m \u001b[0mdata\u001b[0m\u001b[0;34m,\u001b[0m \u001b[0mline_id\u001b[0m\u001b[0;34m,\u001b[0m \u001b[0mstation_id\u001b[0m\u001b[0;34m)\u001b[0m\u001b[0;34m\u001b[0m\u001b[0m\n\u001b[0m\u001b[1;32m     50\u001b[0m             \u001b[0minsert_ntas_data\u001b[0m\u001b[0;34m(\u001b[0m\u001b[0mcon\u001b[0m\u001b[0;34m,\u001b[0m \u001b[0mdata\u001b[0m\u001b[0;34m[\u001b[0m\u001b[0;34m'ntasData'\u001b[0m\u001b[0;34m]\u001b[0m\u001b[0;34m,\u001b[0m \u001b[0mrequest_id\u001b[0m\u001b[0;34m)\u001b[0m\u001b[0;34m\u001b[0m\u001b[0m\n\u001b[1;32m     51\u001b[0m     \u001b[0;32mreturn\u001b[0m \u001b[0mdata\u001b[0m\u001b[0;34m\u001b[0m\u001b[0m\n",
      "\u001b[0;32m<ipython-input-27-c24f1d551f57>\u001b[0m in \u001b[0;36minsert_request_info\u001b[0;34m(con, data, line_id, station_id)\u001b[0m\n\u001b[1;32m     11\u001b[0m     \u001b[0mrequest_row\u001b[0m\u001b[0;34m[\u001b[0m\u001b[0;34m'lineid'\u001b[0m\u001b[0;34m]\u001b[0m \u001b[0;34m=\u001b[0m \u001b[0mline_id\u001b[0m\u001b[0;34m\u001b[0m\u001b[0m\n\u001b[1;32m     12\u001b[0m     \u001b[0mrequest_row\u001b[0m\u001b[0;34m[\u001b[0m\u001b[0;34m'all_stations'\u001b[0m\u001b[0;34m]\u001b[0m \u001b[0;34m=\u001b[0m \u001b[0mdata\u001b[0m\u001b[0;34m[\u001b[0m\u001b[0;34m'allStations'\u001b[0m\u001b[0;34m]\u001b[0m\u001b[0;34m\u001b[0m\u001b[0m\n\u001b[0;32m---> 13\u001b[0;31m     \u001b[0mrequest_row\u001b[0m\u001b[0;34m[\u001b[0m\u001b[0;34m'create_date'\u001b[0m\u001b[0;34m]\u001b[0m \u001b[0;34m=\u001b[0m \u001b[0mdata\u001b[0m\u001b[0;34m[\u001b[0m\u001b[0;34m'ntasData'\u001b[0m\u001b[0;34m]\u001b[0m\u001b[0;34m[\u001b[0m\u001b[0;36m0\u001b[0m\u001b[0;34m]\u001b[0m\u001b[0;34m[\u001b[0m\u001b[0;34m'createDate'\u001b[0m\u001b[0;34m]\u001b[0m\u001b[0;34m.\u001b[0m\u001b[0mreplace\u001b[0m\u001b[0;34m(\u001b[0m \u001b[0;34m'T'\u001b[0m\u001b[0;34m,\u001b[0m \u001b[0;34m' '\u001b[0m\u001b[0;34m)\u001b[0m\u001b[0;34m\u001b[0m\u001b[0m\n\u001b[0m\u001b[1;32m     14\u001b[0m     \u001b[0mcursor\u001b[0m \u001b[0;34m=\u001b[0m \u001b[0mcon\u001b[0m\u001b[0;34m.\u001b[0m\u001b[0mcursor\u001b[0m\u001b[0;34m(\u001b[0m\u001b[0;34m)\u001b[0m\u001b[0;34m\u001b[0m\u001b[0m\n\u001b[1;32m     15\u001b[0m     cursor.execute(\"INSERT INTO public.requests(data_, stationid, lineid, all_stations, create_date)\"\n",
      "\u001b[0;31mIndexError\u001b[0m: list index out of range"
     ]
    }
   ],
   "source": [
    "query_all_stations(con)"
   ]
  },
  {
   "cell_type": "code",
   "execution_count": 9,
   "metadata": {
    "collapsed": false
   },
   "outputs": [
    {
     "ename": "SyntaxError",
     "evalue": "invalid syntax (<ipython-input-9-07e38ec6d08d>, line 4)",
     "output_type": "error",
     "traceback": [
      "\u001b[0;36m  File \u001b[0;32m\"<ipython-input-9-07e38ec6d08d>\"\u001b[0;36m, line \u001b[0;32m4\u001b[0m\n\u001b[0;31m    if time.now() -\u001b[0m\n\u001b[0m                    ^\u001b[0m\n\u001b[0;31mSyntaxError\u001b[0m\u001b[0;31m:\u001b[0m invalid syntax\n"
     ]
    }
   ],
   "source": [
    "last_poll = time.now()\n",
    "poll_frequency = timedelta(minutes = 1)\n",
    "while time.now() < time():\n",
    "    if time.now() - last_poll >= poll_frequency:\n",
    "        "
   ]
  },
  {
   "cell_type": "code",
   "execution_count": 18,
   "metadata": {
    "collapsed": false
   },
   "outputs": [
    {
     "data": {
      "text/plain": [
       "{'allStations': 'success',\n",
       " 'data': None,\n",
       " 'defaultDirection': [['YKD1', 'Southbound<br/> To Union', 'YUS'],\n",
       "  ['YKD2', 'Northbound<br/> To Downsview', 'YUS']],\n",
       " 'limit': 3,\n",
       " 'ntasData': [{'createDate': '2017-02-02T23:22:42',\n",
       "   'id': 12215713332,\n",
       "   'stationDirectionText': 'Southbound<br/> To Union',\n",
       "   'stationId': 'YKD1',\n",
       "   'subwayLine': 'YUS',\n",
       "   'systemMessageType': 'Normal',\n",
       "   'timeInt': 1.3716,\n",
       "   'timeString': '01.37',\n",
       "   'trainDirection': 'North',\n",
       "   'trainId': 111,\n",
       "   'trainMessage': 'Arriving'},\n",
       "  {'createDate': '2017-02-02T23:22:42',\n",
       "   'id': 12215713333,\n",
       "   'stationDirectionText': 'Southbound<br/> To Union',\n",
       "   'stationId': 'YKD1',\n",
       "   'subwayLine': 'YUS',\n",
       "   'systemMessageType': 'Normal',\n",
       "   'timeInt': 6.069130281481481,\n",
       "   'timeString': '06.07',\n",
       "   'trainDirection': 'North',\n",
       "   'trainId': 113,\n",
       "   'trainMessage': 'Arriving'},\n",
       "  {'createDate': '2017-02-02T23:22:42',\n",
       "   'id': 12215713334,\n",
       "   'stationDirectionText': 'Southbound<br/> To Union',\n",
       "   'stationId': 'YKD1',\n",
       "   'subwayLine': 'YUS',\n",
       "   'systemMessageType': 'Normal',\n",
       "   'timeInt': 11.632546577777777,\n",
       "   'timeString': '11.63',\n",
       "   'trainDirection': 'North',\n",
       "   'trainId': 117,\n",
       "   'trainMessage': 'Arriving'},\n",
       "  {'createDate': '2017-02-02T23:22:42',\n",
       "   'id': 12215713509,\n",
       "   'stationDirectionText': 'Northbound<br/> To Downsview',\n",
       "   'stationId': 'YKD2',\n",
       "   'subwayLine': 'YUS',\n",
       "   'systemMessageType': 'Normal',\n",
       "   'timeInt': 5.21,\n",
       "   'timeString': '05.21',\n",
       "   'trainDirection': 'South',\n",
       "   'trainId': 118,\n",
       "   'trainMessage': 'Arriving'},\n",
       "  {'createDate': '2017-02-02T23:22:42',\n",
       "   'id': 12215713510,\n",
       "   'stationDirectionText': 'Northbound<br/> To Downsview',\n",
       "   'stationId': 'YKD2',\n",
       "   'subwayLine': 'YUS',\n",
       "   'systemMessageType': 'Normal',\n",
       "   'timeInt': 13.797917777777778,\n",
       "   'timeString': '13.80',\n",
       "   'trainDirection': 'South',\n",
       "   'trainId': 157,\n",
       "   'trainMessage': 'Arriving'},\n",
       "  {'createDate': '2017-02-02T23:22:42',\n",
       "   'id': 12215713511,\n",
       "   'stationDirectionText': 'Northbound<br/> To Downsview',\n",
       "   'stationId': 'YKD2',\n",
       "   'subwayLine': 'YUS',\n",
       "   'systemMessageType': 'Normal',\n",
       "   'timeInt': 16.613955555555556,\n",
       "   'timeString': '16.61',\n",
       "   'trainDirection': 'South',\n",
       "   'trainId': 159,\n",
       "   'trainMessage': 'Arriving'}],\n",
       " 'searchCriteria': '',\n",
       " 'searchCriteriaMatch': None,\n",
       " 'stationId': '3',\n",
       " 'subwayLine': None,\n",
       " 'subwayLine2': None,\n",
       " 'subwayStations': ['Bathurst Station',\n",
       "  'Bay Station',\n",
       "  'Bayview Station',\n",
       "  'Bessarion Station',\n",
       "  'Bloor-Yonge Station',\n",
       "  'Broadview Station',\n",
       "  'Castle Frank Station',\n",
       "  'Chester Station',\n",
       "  'Christie Station',\n",
       "  'College Station',\n",
       "  'Coxwell Station',\n",
       "  'Davisville Station',\n",
       "  'Don Mills Station',\n",
       "  'Donlands Station',\n",
       "  'Downsview Station',\n",
       "  'Dufferin Station',\n",
       "  'Dundas Station',\n",
       "  'Dundas West Station',\n",
       "  'Dupont Station',\n",
       "  'Eglinton Station',\n",
       "  'Eglinton West Station',\n",
       "  'Finch Station',\n",
       "  'Glencairn Station',\n",
       "  'Greenwood Station',\n",
       "  'High Park Station',\n",
       "  'Islington Station',\n",
       "  'Jane Station',\n",
       "  'Keele Station',\n",
       "  'Kennedy Station',\n",
       "  'King Station',\n",
       "  'Kipling Station',\n",
       "  'Lansdowne Station',\n",
       "  'Lawrence Station',\n",
       "  'Lawrence West Station',\n",
       "  'Leslie Station',\n",
       "  'Main Street Station',\n",
       "  'Museum Station',\n",
       "  'North York Centre Station',\n",
       "  'Old Mill Station',\n",
       "  'Osgoode Station',\n",
       "  'Ossington Station',\n",
       "  'Pape Station',\n",
       "  'Queen Station',\n",
       "  'Queen’s Park Station',\n",
       "  'Rosedale Station',\n",
       "  'Royal York Station',\n",
       "  'Runnymede Station',\n",
       "  'Sheppard-Yonge Station',\n",
       "  'Sherbourne Station',\n",
       "  'Spadina Station',\n",
       "  'St Andrew Station',\n",
       "  'St Clair Station',\n",
       "  'St Clair West Station',\n",
       "  'St George Station',\n",
       "  'St Patrick Station',\n",
       "  'Summerhill Station',\n",
       "  'Union Station',\n",
       "  'Victoria Park Station',\n",
       "  'Warden Station',\n",
       "  'Wellesley Station',\n",
       "  'Wilson Station',\n",
       "  'Woodbine Station',\n",
       "  'York Mills Station',\n",
       "  'Yorkdale Station']}"
      ]
     },
     "execution_count": 18,
     "metadata": {},
     "output_type": "execute_result"
    }
   ],
   "source": [
    "data"
   ]
  },
  {
   "cell_type": "code",
   "execution_count": 15,
   "metadata": {
    "collapsed": false
   },
   "outputs": [
    {
     "data": {
      "text/plain": [
       "'Fest'"
      ]
     },
     "execution_count": 15,
     "metadata": {},
     "output_type": "execute_result"
    }
   ],
   "source": [
    "test_string.replace('T','F')"
   ]
  }
 ],
 "metadata": {
  "kernelspec": {
   "display_name": "Python 3",
   "language": "python",
   "name": "python3"
  },
  "language_info": {
   "codemirror_mode": {
    "name": "ipython",
    "version": 3
   },
   "file_extension": ".py",
   "mimetype": "text/x-python",
   "name": "python",
   "nbconvert_exporter": "python",
   "pygments_lexer": "ipython3",
   "version": "3.5.2"
  }
 },
 "nbformat": 4,
 "nbformat_minor": 2
}
