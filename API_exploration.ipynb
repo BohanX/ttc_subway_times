{
 "cells": [
  {
   "cell_type": "markdown",
   "metadata": {},
   "source": [
    "# Exploring the TTC Subway Real-time API\n",
    "The API we're pulling data from is what supports the TTC's [Next Train Arrivals](http://www.ttc.ca/Subway/next_train_arrivals.jsp) page. With a bit of exploration through your browser's developer console, you can see that the page gets refreshed with data from a request to http://www.ttc.ca/Subway/loadNtas.action "
   ]
  },
  {
   "cell_type": "code",
   "execution_count": 1,
   "metadata": {
    "collapsed": false
   },
   "outputs": [],
   "source": [
    "import requests #to handle http requests to the API\n",
    "from datetime import datetime\n",
    "import pytz"
   ]
  },
  {
   "cell_type": "code",
   "execution_count": 2,
   "metadata": {
    "collapsed": true
   },
   "outputs": [],
   "source": [
    "stationid = 3 \n",
    "#We'll find out the full range of possible stations further down.\n",
    "lineid = 1 \n",
    "#[1,2,4]\n",
    "request_time = datetime.now(pytz.timezone('Canada/Eastern')) \n",
    "#The time of the request. It's possible to get historical data?\n",
    "#The request time must be passed in Unix epoch: milliseconds from Jan 1st, 1970\n",
    "request_epoch = int(request_time.timestamp()*1000) "
   ]
  },
  {
   "cell_type": "code",
   "execution_count": 16,
   "metadata": {
    "collapsed": true
   },
   "outputs": [],
   "source": [
    "# The url for the request\n",
    "baseurl = \"http://www.ttc.ca/Subway/loadNtas.action\""
   ]
  },
  {
   "cell_type": "code",
   "execution_count": 4,
   "metadata": {
    "collapsed": false
   },
   "outputs": [],
   "source": [
    "# Our query parameters for this API request\n",
    "payload = {\"subwayLine\":lineid,\n",
    "           \"stationId\":stationid,\n",
    "           \"searchCriteria\":'', #The value in the search box\n",
    "           #it has to be included otherwise the query fails\n",
    "           \"_\":request_epoch} #Great job naming variables...\n",
    "r = requests.get(baseurl, params = payload)"
   ]
  },
  {
   "cell_type": "markdown",
   "metadata": {},
   "source": [
    "So now we've just received our first request from the API and the response is stored in the `requests` object `r`. From previous examination of the API we know that the response to an API request is in JSON format. So the below code will pretty print out the response so we can have a look at the variables."
   ]
  },
  {
   "cell_type": "code",
   "execution_count": 5,
   "metadata": {
    "collapsed": false
   },
   "outputs": [
    {
     "data": {
      "text/plain": [
       "{'allStations': 'success',\n",
       " 'data': None,\n",
       " 'defaultDirection': [['YKD1', 'Southbound<br/> To Union', 'YUS'],\n",
       "  ['YKD2', 'Northbound<br/> To Downsview', 'YUS']],\n",
       " 'limit': 3,\n",
       " 'ntasData': [{'createDate': '2017-01-31T20:28:21',\n",
       "   'id': 12175559601,\n",
       "   'stationDirectionText': 'Southbound<br/> To Union',\n",
       "   'stationId': 'YKD1',\n",
       "   'subwayLine': 'YUS',\n",
       "   'systemMessageType': 'Normal',\n",
       "   'timeInt': 0.29609142857142856,\n",
       "   'timeString': '00.30',\n",
       "   'trainDirection': 'North',\n",
       "   'trainId': 145,\n",
       "   'trainMessage': 'Arriving'},\n",
       "  {'createDate': '2017-01-31T20:28:21',\n",
       "   'id': 12175559602,\n",
       "   'stationDirectionText': 'Southbound<br/> To Union',\n",
       "   'stationId': 'YKD1',\n",
       "   'subwayLine': 'YUS',\n",
       "   'systemMessageType': 'Normal',\n",
       "   'timeInt': 4.534429241904761,\n",
       "   'timeString': '04.53',\n",
       "   'trainDirection': 'North',\n",
       "   'trainId': 122,\n",
       "   'trainMessage': 'Delayed'},\n",
       "  {'createDate': '2017-01-31T20:28:21',\n",
       "   'id': 12175559603,\n",
       "   'stationDirectionText': 'Southbound<br/> To Union',\n",
       "   'stationId': 'YKD1',\n",
       "   'subwayLine': 'YUS',\n",
       "   'systemMessageType': 'Normal',\n",
       "   'timeInt': 4.93227686095238,\n",
       "   'timeString': '04.93',\n",
       "   'trainDirection': 'North',\n",
       "   'trainId': 126,\n",
       "   'trainMessage': 'Arriving'},\n",
       "  {'createDate': '2017-01-31T20:28:21',\n",
       "   'id': 12175559586,\n",
       "   'stationDirectionText': 'Northbound<br/> To Downsview',\n",
       "   'stationId': 'YKD2',\n",
       "   'subwayLine': 'YUS',\n",
       "   'systemMessageType': 'Normal',\n",
       "   'timeInt': 0.0,\n",
       "   'timeString': '00.00',\n",
       "   'trainDirection': 'South',\n",
       "   'trainId': 154,\n",
       "   'trainMessage': 'AtStation'},\n",
       "  {'createDate': '2017-01-31T20:28:21',\n",
       "   'id': 12175559587,\n",
       "   'stationDirectionText': 'Northbound<br/> To Downsview',\n",
       "   'stationId': 'YKD2',\n",
       "   'subwayLine': 'YUS',\n",
       "   'systemMessageType': 'Normal',\n",
       "   'timeInt': 1.3254445714285714,\n",
       "   'timeString': '01.33',\n",
       "   'trainDirection': 'South',\n",
       "   'trainId': 155,\n",
       "   'trainMessage': 'Arriving'},\n",
       "  {'createDate': '2017-01-31T20:28:21',\n",
       "   'id': 12175559588,\n",
       "   'stationDirectionText': 'Northbound<br/> To Downsview',\n",
       "   'stationId': 'YKD2',\n",
       "   'subwayLine': 'YUS',\n",
       "   'systemMessageType': 'Normal',\n",
       "   'timeInt': 2.2986114285714283,\n",
       "   'timeString': '02.30',\n",
       "   'trainDirection': 'South',\n",
       "   'trainId': 157,\n",
       "   'trainMessage': 'Arriving'}],\n",
       " 'searchCriteria': '',\n",
       " 'searchCriteriaMatch': None,\n",
       " 'stationId': '3',\n",
       " 'subwayLine': '1',\n",
       " 'subwayLine2': None,\n",
       " 'subwayStations': ['Bathurst Station',\n",
       "  'Bay Station',\n",
       "  'Bayview Station',\n",
       "  'Bessarion Station',\n",
       "  'Bloor-Yonge Station',\n",
       "  'Broadview Station',\n",
       "  'Castle Frank Station',\n",
       "  'Chester Station',\n",
       "  'Christie Station',\n",
       "  'College Station',\n",
       "  'Coxwell Station',\n",
       "  'Davisville Station',\n",
       "  'Don Mills Station',\n",
       "  'Donlands Station',\n",
       "  'Downsview Station',\n",
       "  'Dufferin Station',\n",
       "  'Dundas Station',\n",
       "  'Dundas West Station',\n",
       "  'Dupont Station',\n",
       "  'Eglinton Station',\n",
       "  'Eglinton West Station',\n",
       "  'Finch Station',\n",
       "  'Glencairn Station',\n",
       "  'Greenwood Station',\n",
       "  'High Park Station',\n",
       "  'Islington Station',\n",
       "  'Jane Station',\n",
       "  'Keele Station',\n",
       "  'Kennedy Station',\n",
       "  'King Station',\n",
       "  'Kipling Station',\n",
       "  'Lansdowne Station',\n",
       "  'Lawrence Station',\n",
       "  'Lawrence West Station',\n",
       "  'Leslie Station',\n",
       "  'Main Street Station',\n",
       "  'Museum Station',\n",
       "  'North York Centre Station',\n",
       "  'Old Mill Station',\n",
       "  'Osgoode Station',\n",
       "  'Ossington Station',\n",
       "  'Pape Station',\n",
       "  'Queen Station',\n",
       "  'Queen’s Park Station',\n",
       "  'Rosedale Station',\n",
       "  'Royal York Station',\n",
       "  'Runnymede Station',\n",
       "  'Sheppard-Yonge Station',\n",
       "  'Sherbourne Station',\n",
       "  'Spadina Station',\n",
       "  'St Andrew Station',\n",
       "  'St Clair Station',\n",
       "  'St Clair West Station',\n",
       "  'St George Station',\n",
       "  'St Patrick Station',\n",
       "  'Summerhill Station',\n",
       "  'Union Station',\n",
       "  'Victoria Park Station',\n",
       "  'Warden Station',\n",
       "  'Wellesley Station',\n",
       "  'Wilson Station',\n",
       "  'Woodbine Station',\n",
       "  'York Mills Station',\n",
       "  'Yorkdale Station']}"
      ]
     },
     "execution_count": 5,
     "metadata": {},
     "output_type": "execute_result"
    }
   ],
   "source": [
    "r.json() "
   ]
  },
  {
   "cell_type": "code",
   "execution_count": null,
   "metadata": {
    "collapsed": true
   },
   "outputs": [],
   "source": []
  },
  {
   "cell_type": "markdown",
   "metadata": {},
   "source": [
    "## Building a scraping script\n",
    "By opening up the inspector tools in the browser, we can see the full list of station ids by hovering over the `Select a subway station` dropdown list.\n",
    "\n",
    "![](img/line1_stations.png)  \n",
    "\n",
    "For Line 1 they are numbered 1-32 (from Downsview to Finch, in order)\n",
    "\n",
    "For Line 2 they are numbered 33-63 (from Kipling to Kennedy)\n",
    "\n",
    "For Line 4 they are numbered 64-68 (from Sheppard to Don Mills)\n",
    "\n",
    "Thus we can construct a dictionary that will represent every possible API call:"
   ]
  },
  {
   "cell_type": "code",
   "execution_count": 6,
   "metadata": {
    "collapsed": true
   },
   "outputs": [],
   "source": [
    "lines = {1: range(1, 33), #max value must be 1 greater\n",
    "         2: range(33, 64), # west to east (Kipling onwards)\n",
    "         3: range(64, 68)} # also west to east (Sheppard onwards) "
   ]
  },
  {
   "cell_type": "code",
   "execution_count": 25,
   "metadata": {
    "collapsed": true
   },
   "outputs": [],
   "source": [
    "def get_API_response(line_id, station_id):\n",
    "    payload = {\"subwayLine\":line_id,\n",
    "           \"stationId\":station_id,\n",
    "           \"searchCriteria\":''}\n",
    "    r = requests.get(baseurl, params = payload) \n",
    "    return r.json()\n",
    "\n",
    "def query_all_stations():\n",
    "    data = {}\n",
    "    for line_id, stations in lines.items():\n",
    "        data[line_id] = {}\n",
    "        for station_id in stations:\n",
    "            data[line_id][station_id] = get_API_response(line_id, station_id)\n",
    "    return data"
   ]
  },
  {
   "cell_type": "code",
   "execution_count": 26,
   "metadata": {
    "collapsed": false
   },
   "outputs": [],
   "source": [
    "response = query_all_stations() "
   ]
  },
  {
   "cell_type": "code",
   "execution_count": null,
   "metadata": {
    "collapsed": true
   },
   "outputs": [],
   "source": []
  }
 ],
 "metadata": {
  "anaconda-cloud": {},
  "kernelspec": {
   "display_name": "Python [default]",
   "language": "python",
   "name": "python3"
  },
  "language_info": {
   "codemirror_mode": {
    "name": "ipython",
    "version": 3
   },
   "file_extension": ".py",
   "mimetype": "text/x-python",
   "name": "python",
   "nbconvert_exporter": "python",
   "pygments_lexer": "ipython3",
   "version": "3.5.2"
  }
 },
 "nbformat": 4,
 "nbformat_minor": 2
}
