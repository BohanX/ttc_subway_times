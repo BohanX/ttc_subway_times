{
 "cells": [
  {
   "cell_type": "markdown",
   "metadata": {},
   "source": [
    "## Filtering Observed Arrivals\n",
    "As the [API Exploration Notebook](API_exploration.ipynb) shows, each poll of the scraper produces 3 predicted arrival times for each line direction at a station. We want to transform and reduce these data to only feature observed train arrivals at stations ([per this issue](https://github.com/CivicTechTO/ttc_subway_times/issues/13)).\n",
    "\n",
    "This notebook explores how to do this. "
   ]
  },
  {
   "cell_type": "code",
   "execution_count": 23,
   "metadata": {
    "collapsed": false
   },
   "outputs": [
    {
     "ename": "ImportError",
     "evalue": "No module named 'pandas'",
     "output_type": "error",
     "traceback": [
      "\u001b[0;31m---------------------------------------------------------------------------\u001b[0m",
      "\u001b[0;31mImportError\u001b[0m                               Traceback (most recent call last)",
      "\u001b[0;32m<ipython-input-23-4c89962f1e57>\u001b[0m in \u001b[0;36m<module>\u001b[0;34m()\u001b[0m\n\u001b[1;32m      1\u001b[0m \u001b[0;32mfrom\u001b[0m \u001b[0mpsycopg2\u001b[0m \u001b[0;32mimport\u001b[0m \u001b[0mconnect\u001b[0m\u001b[0;34m\u001b[0m\u001b[0m\n\u001b[1;32m      2\u001b[0m \u001b[0;32mimport\u001b[0m \u001b[0mconfigparser\u001b[0m\u001b[0;34m\u001b[0m\u001b[0m\n\u001b[0;32m----> 3\u001b[0;31m \u001b[0;32mimport\u001b[0m \u001b[0mpandas\u001b[0m \u001b[0;32mas\u001b[0m \u001b[0mpd\u001b[0m\u001b[0;34m\u001b[0m\u001b[0m\n\u001b[0m\u001b[1;32m      4\u001b[0m \u001b[0;32mimport\u001b[0m \u001b[0mpandas\u001b[0m\u001b[0;34m.\u001b[0m\u001b[0mio\u001b[0m\u001b[0;34m.\u001b[0m\u001b[0msql\u001b[0m \u001b[0;32mas\u001b[0m \u001b[0mpandasql\u001b[0m\u001b[0;34m\u001b[0m\u001b[0m\n",
      "\u001b[0;31mImportError\u001b[0m: No module named 'pandas'"
     ]
    }
   ],
   "source": [
    "from psycopg2 import connect\n",
    "import configparser\n",
    "import pandas as pd\n",
    "import pandas.io.sql as pandasql"
   ]
  },
  {
   "cell_type": "code",
   "execution_count": 2,
   "metadata": {
    "collapsed": true
   },
   "outputs": [],
   "source": [
    "CONFIG = configparser.ConfigParser(interpolation=None)\n",
    "CONFIG.read('../db.cfg')\n",
    "dbset = CONFIG['DBSETTINGS']\n",
    "con = connect(**dbset)"
   ]
  },
  {
   "cell_type": "markdown",
   "metadata": {
    "collapsed": true
   },
   "source": [
    "## Goal\n",
    "We want to generate observed arrival times, in a format similar to [GTFS](https://github.com/google/transit/blob/master/gtfs/spec/en/reference.md#stop_timestxt). The GTFS schedule will be useful in this process, data was downloaded from [Transit Feeds](https://transitfeeds.com/p/ttc/33), the schema of the data is in [ttc_gtfs_create.sql](../ttc_gtfs_create.sql) and it is processed to a more useful format in PostgreSQL with [ttc_gtfs_process.sql](../ttc_gtfs_process.sql).\n",
    "\n",
    "From gtfs, we can get a sense of the target data count, how many stops are scheduled on the three subway lines for which we have data?"
   ]
  },
  {
   "cell_type": "code",
   "execution_count": 8,
   "metadata": {
    "collapsed": false
   },
   "outputs": [
    {
     "name": "stdout",
     "output_type": "stream",
     "text": [
      "46404\n"
     ]
    }
   ],
   "source": [
    "sql = '''SELECT COUNT(1)\n",
    "\n",
    "FROM gtfs.stop_times \n",
    "INNER JOIN gtfs.trips USING (trip_id)\n",
    "INNER JOIN gtfs.routes USING (route_id)\n",
    "INNER JOIN gtfs.calendar USING (service_id)\n",
    "WHERE monday AND route_type = 1 AND route_short_name != '3'\n",
    "'''\n",
    "\n",
    "with con.cursor() as cur:\n",
    "    cur.execute(sql)\n",
    "    print(cur.fetchone()[0])"
   ]
  },
  {
   "cell_type": "markdown",
   "metadata": {},
   "source": [
    "This is a ball park figure we are aiming for in our filtering. \n",
    "Creating a materialized view of the raw poll data for a given day Wednesday, June 14th 2017 "
   ]
  },
  {
   "cell_type": "code",
   "execution_count": 17,
   "metadata": {
    "collapsed": false
   },
   "outputs": [],
   "source": [
    "sql = '''CREATE MATERIALIZED VIEW test_day AS \n",
    "SELECT requestid, stationid, lineid, create_date, request_date, station_char, subwayline, system_message_type, \n",
    "            timint, traindirection, trainid, train_message\n",
    "FROM requests\n",
    "INNER JOIN ntas_data USING (requestid)\n",
    "WHERE request_date >= '2017-06-14'::DATE + interval '5 hours' \n",
    "AND request_date <  '2017-06-14'::DATE + interval '29 hours' \n",
    "''' \n",
    "with con:\n",
    "    with con.cursor() as cur:\n",
    "        cur.execute(sql)"
   ]
  },
  {
   "cell_type": "code",
   "execution_count": 18,
   "metadata": {
    "collapsed": false
   },
   "outputs": [
    {
     "name": "stdout",
     "output_type": "stream",
     "text": [
      "554390\n"
     ]
    }
   ],
   "source": [
    "with con.cursor() as cur:\n",
    "    cur.execute('SELECT COUNT(1) FROM test_day')\n",
    "    print(cur.fetchone()[0])"
   ]
  },
  {
   "cell_type": "markdown",
   "metadata": {},
   "source": [
    "Cool. Definitely some work to do.\n",
    "\n",
    "\n",
    "Trying out a very basic filter, which has a [Known Issue](https://github.com/CivicTechTO/ttc_subway_times/issues/13#issuecomment-286609328)"
   ]
  },
  {
   "cell_type": "code",
   "execution_count": 22,
   "metadata": {
    "collapsed": false
   },
   "outputs": [
    {
     "name": "stdout",
     "output_type": "stream",
     "text": [
      "81483\n"
     ]
    }
   ],
   "source": [
    "sql = '''SELECT COUNT(DISTINCT (requestid, lineid, trainid, traindirection, stationid))\n",
    "FROM test_day \n",
    "WHERE train_message = 'AtStation' OR timint < 1'''\n",
    "\n",
    "with con.cursor() as cur:\n",
    "    cur.execute(sql)\n",
    "    print(cur.fetchone()[0])"
   ]
  },
  {
   "cell_type": "markdown",
   "metadata": {},
   "source": [
    "It's a start. \n",
    "\n",
    "If every line takes more than an hour to do a round-trip, we might be able to look for a distinct train-line-direction-station combination for each hour."
   ]
  },
  {
   "cell_type": "code",
   "execution_count": null,
   "metadata": {
    "collapsed": true
   },
   "outputs": [],
   "source": [
    "sql = '''WITH trips AS (SELECT route_short_name, (SELECT trip_id FROM gtfs.trips WHERE trips.route_id = routes.route_id LIMIT 1) \n",
    "FROM gtfs.routes\n",
    "WHERE route_type = 1 AND route_short_name != '3' )\n",
    "\n",
    "SELECT route_id, trip_id, stop_id, arrival_time\n",
    "FROM gtfs.stop_times\n",
    "INNER JOIN trips USING(trip_id)\n",
    "ORDER BY route_id, trip_id, stop_sequence'''\n",
    "\n",
    "#load data into data frame"
   ]
  },
  {
   "cell_type": "code",
   "execution_count": 21,
   "metadata": {
    "collapsed": false
   },
   "outputs": [],
   "source": [
    "con.rollback()"
   ]
  }
 ],
 "metadata": {
  "kernelspec": {
   "display_name": "Python 3",
   "language": "python",
   "name": "python3"
  },
  "language_info": {
   "codemirror_mode": {
    "name": "ipython",
    "version": 3
   },
   "file_extension": ".py",
   "mimetype": "text/x-python",
   "name": "python",
   "nbconvert_exporter": "python",
   "pygments_lexer": "ipython3",
   "version": "3.5.2"
  }
 },
 "nbformat": 4,
 "nbformat_minor": 2
}
